{
  "nbformat": 4,
  "nbformat_minor": 0,
  "metadata": {
    "colab": {
      "provenance": [],
      "collapsed_sections": []
    },
    "kernelspec": {
      "name": "python3",
      "display_name": "Python 3"
    },
    "language_info": {
      "name": "python"
    }
  },
  "cells": [
    {
      "cell_type": "code",
      "metadata": {
        "id": "z6Mt8jOoe3yK"
      },
      "source": [
        "import pandas as pd\n",
        "import numpy as np\n",
        "import math\n",
        "import operator"
      ],
      "execution_count": null,
      "outputs": []
    },
    {
      "cell_type": "code",
      "metadata": {
        "id": "Y1hGCMLie7I5",
        "colab": {
          "base_uri": "https://localhost:8080/",
          "height": 206
        },
        "outputId": "036cef3c-f82e-449d-ac92-540eff775775"
      },
      "source": [
        "df = pd.read_csv('/content/Suicide_Detection.csv')\n",
        "df.head()"
      ],
      "execution_count": null,
      "outputs": [
        {
          "output_type": "execute_result",
          "data": {
            "text/html": [
              "<div>\n",
              "<style scoped>\n",
              "    .dataframe tbody tr th:only-of-type {\n",
              "        vertical-align: middle;\n",
              "    }\n",
              "\n",
              "    .dataframe tbody tr th {\n",
              "        vertical-align: top;\n",
              "    }\n",
              "\n",
              "    .dataframe thead th {\n",
              "        text-align: right;\n",
              "    }\n",
              "</style>\n",
              "<table border=\"1\" class=\"dataframe\">\n",
              "  <thead>\n",
              "    <tr style=\"text-align: right;\">\n",
              "      <th></th>\n",
              "      <th>Unnamed: 0</th>\n",
              "      <th>text</th>\n",
              "      <th>class</th>\n",
              "    </tr>\n",
              "  </thead>\n",
              "  <tbody>\n",
              "    <tr>\n",
              "      <th>0</th>\n",
              "      <td>2</td>\n",
              "      <td>Ex Wife Threatening SuicideRecently I left my ...</td>\n",
              "      <td>suicide</td>\n",
              "    </tr>\n",
              "    <tr>\n",
              "      <th>1</th>\n",
              "      <td>3</td>\n",
              "      <td>Am I weird I don't get affected by compliments...</td>\n",
              "      <td>non-suicide</td>\n",
              "    </tr>\n",
              "    <tr>\n",
              "      <th>2</th>\n",
              "      <td>4</td>\n",
              "      <td>Finally 2020 is almost over... So I can never ...</td>\n",
              "      <td>non-suicide</td>\n",
              "    </tr>\n",
              "    <tr>\n",
              "      <th>3</th>\n",
              "      <td>8</td>\n",
              "      <td>i need helpjust help me im crying so hard</td>\n",
              "      <td>suicide</td>\n",
              "    </tr>\n",
              "    <tr>\n",
              "      <th>4</th>\n",
              "      <td>9</td>\n",
              "      <td>I’m so lostHello, my name is Adam (16) and I’v...</td>\n",
              "      <td>suicide</td>\n",
              "    </tr>\n",
              "  </tbody>\n",
              "</table>\n",
              "</div>"
            ],
            "text/plain": [
              "   Unnamed: 0                                               text        class\n",
              "0           2  Ex Wife Threatening SuicideRecently I left my ...      suicide\n",
              "1           3  Am I weird I don't get affected by compliments...  non-suicide\n",
              "2           4  Finally 2020 is almost over... So I can never ...  non-suicide\n",
              "3           8          i need helpjust help me im crying so hard      suicide\n",
              "4           9  I’m so lostHello, my name is Adam (16) and I’v...      suicide"
            ]
          },
          "metadata": {},
          "execution_count": 2
        }
      ]
    },
    {
      "cell_type": "code",
      "metadata": {
        "id": "HFCRG-Mmgc5y",
        "colab": {
          "base_uri": "https://localhost:8080/",
          "height": 206
        },
        "outputId": "8d823cff-2336-467d-d4f6-1d852e4df271"
      },
      "source": [
        "dataframe=df.rename(columns={\"class\": \"situation\"})\n",
        "inputs = dataframe.drop(['Unnamed: 0'],axis=1,inplace=True)\n",
        "dummies = pd.get_dummies(dataframe.situation)\n",
        "dummies.head(3)\n",
        "dataframe.head()"
      ],
      "execution_count": null,
      "outputs": [
        {
          "output_type": "execute_result",
          "data": {
            "text/html": [
              "<div>\n",
              "<style scoped>\n",
              "    .dataframe tbody tr th:only-of-type {\n",
              "        vertical-align: middle;\n",
              "    }\n",
              "\n",
              "    .dataframe tbody tr th {\n",
              "        vertical-align: top;\n",
              "    }\n",
              "\n",
              "    .dataframe thead th {\n",
              "        text-align: right;\n",
              "    }\n",
              "</style>\n",
              "<table border=\"1\" class=\"dataframe\">\n",
              "  <thead>\n",
              "    <tr style=\"text-align: right;\">\n",
              "      <th></th>\n",
              "      <th>text</th>\n",
              "      <th>situation</th>\n",
              "    </tr>\n",
              "  </thead>\n",
              "  <tbody>\n",
              "    <tr>\n",
              "      <th>0</th>\n",
              "      <td>Ex Wife Threatening SuicideRecently I left my ...</td>\n",
              "      <td>suicide</td>\n",
              "    </tr>\n",
              "    <tr>\n",
              "      <th>1</th>\n",
              "      <td>Am I weird I don't get affected by compliments...</td>\n",
              "      <td>non-suicide</td>\n",
              "    </tr>\n",
              "    <tr>\n",
              "      <th>2</th>\n",
              "      <td>Finally 2020 is almost over... So I can never ...</td>\n",
              "      <td>non-suicide</td>\n",
              "    </tr>\n",
              "    <tr>\n",
              "      <th>3</th>\n",
              "      <td>i need helpjust help me im crying so hard</td>\n",
              "      <td>suicide</td>\n",
              "    </tr>\n",
              "    <tr>\n",
              "      <th>4</th>\n",
              "      <td>I’m so lostHello, my name is Adam (16) and I’v...</td>\n",
              "      <td>suicide</td>\n",
              "    </tr>\n",
              "  </tbody>\n",
              "</table>\n",
              "</div>"
            ],
            "text/plain": [
              "                                                text    situation\n",
              "0  Ex Wife Threatening SuicideRecently I left my ...      suicide\n",
              "1  Am I weird I don't get affected by compliments...  non-suicide\n",
              "2  Finally 2020 is almost over... So I can never ...  non-suicide\n",
              "3          i need helpjust help me im crying so hard      suicide\n",
              "4  I’m so lostHello, my name is Adam (16) and I’v...      suicide"
            ]
          },
          "metadata": {},
          "execution_count": 3
        }
      ]
    },
    {
      "cell_type": "code",
      "metadata": {
        "id": "UGTYOvxsffcu",
        "colab": {
          "base_uri": "https://localhost:8080/",
          "height": 143
        },
        "outputId": "f80722a2-6465-44b1-ce7a-2bf996bd558c"
      },
      "source": [
        " dataframe= pd.concat([dataframe,dummies],axis='columns')\n",
        "dataframe.head(3)"
      ],
      "execution_count": null,
      "outputs": [
        {
          "output_type": "execute_result",
          "data": {
            "text/html": [
              "<div>\n",
              "<style scoped>\n",
              "    .dataframe tbody tr th:only-of-type {\n",
              "        vertical-align: middle;\n",
              "    }\n",
              "\n",
              "    .dataframe tbody tr th {\n",
              "        vertical-align: top;\n",
              "    }\n",
              "\n",
              "    .dataframe thead th {\n",
              "        text-align: right;\n",
              "    }\n",
              "</style>\n",
              "<table border=\"1\" class=\"dataframe\">\n",
              "  <thead>\n",
              "    <tr style=\"text-align: right;\">\n",
              "      <th></th>\n",
              "      <th>text</th>\n",
              "      <th>situation</th>\n",
              "      <th>non-suicide</th>\n",
              "      <th>suicide</th>\n",
              "    </tr>\n",
              "  </thead>\n",
              "  <tbody>\n",
              "    <tr>\n",
              "      <th>0</th>\n",
              "      <td>Ex Wife Threatening SuicideRecently I left my ...</td>\n",
              "      <td>suicide</td>\n",
              "      <td>0</td>\n",
              "      <td>1</td>\n",
              "    </tr>\n",
              "    <tr>\n",
              "      <th>1</th>\n",
              "      <td>Am I weird I don't get affected by compliments...</td>\n",
              "      <td>non-suicide</td>\n",
              "      <td>1</td>\n",
              "      <td>0</td>\n",
              "    </tr>\n",
              "    <tr>\n",
              "      <th>2</th>\n",
              "      <td>Finally 2020 is almost over... So I can never ...</td>\n",
              "      <td>non-suicide</td>\n",
              "      <td>1</td>\n",
              "      <td>0</td>\n",
              "    </tr>\n",
              "  </tbody>\n",
              "</table>\n",
              "</div>"
            ],
            "text/plain": [
              "                                                text  ... suicide\n",
              "0  Ex Wife Threatening SuicideRecently I left my ...  ...       1\n",
              "1  Am I weird I don't get affected by compliments...  ...       0\n",
              "2  Finally 2020 is almost over... So I can never ...  ...       0\n",
              "\n",
              "[3 rows x 4 columns]"
            ]
          },
          "metadata": {},
          "execution_count": 4
        }
      ]
    },
    {
      "cell_type": "code",
      "metadata": {
        "id": "SNGqsHPnoW4r",
        "colab": {
          "base_uri": "https://localhost:8080/",
          "height": 206
        },
        "outputId": "e9a69814-e84e-41b2-e7a7-08a9d929d037"
      },
      "source": [
        "inputs=dataframe.drop(['situation','non-suicide'],axis=1,inplace=True)\n",
        "target = dataframe.suicide\n",
        "dataframe.head()"
      ],
      "execution_count": null,
      "outputs": [
        {
          "output_type": "execute_result",
          "data": {
            "text/html": [
              "<div>\n",
              "<style scoped>\n",
              "    .dataframe tbody tr th:only-of-type {\n",
              "        vertical-align: middle;\n",
              "    }\n",
              "\n",
              "    .dataframe tbody tr th {\n",
              "        vertical-align: top;\n",
              "    }\n",
              "\n",
              "    .dataframe thead th {\n",
              "        text-align: right;\n",
              "    }\n",
              "</style>\n",
              "<table border=\"1\" class=\"dataframe\">\n",
              "  <thead>\n",
              "    <tr style=\"text-align: right;\">\n",
              "      <th></th>\n",
              "      <th>text</th>\n",
              "      <th>suicide</th>\n",
              "    </tr>\n",
              "  </thead>\n",
              "  <tbody>\n",
              "    <tr>\n",
              "      <th>0</th>\n",
              "      <td>Ex Wife Threatening SuicideRecently I left my ...</td>\n",
              "      <td>1</td>\n",
              "    </tr>\n",
              "    <tr>\n",
              "      <th>1</th>\n",
              "      <td>Am I weird I don't get affected by compliments...</td>\n",
              "      <td>0</td>\n",
              "    </tr>\n",
              "    <tr>\n",
              "      <th>2</th>\n",
              "      <td>Finally 2020 is almost over... So I can never ...</td>\n",
              "      <td>0</td>\n",
              "    </tr>\n",
              "    <tr>\n",
              "      <th>3</th>\n",
              "      <td>i need helpjust help me im crying so hard</td>\n",
              "      <td>1</td>\n",
              "    </tr>\n",
              "    <tr>\n",
              "      <th>4</th>\n",
              "      <td>I’m so lostHello, my name is Adam (16) and I’v...</td>\n",
              "      <td>1</td>\n",
              "    </tr>\n",
              "  </tbody>\n",
              "</table>\n",
              "</div>"
            ],
            "text/plain": [
              "                                                text  suicide\n",
              "0  Ex Wife Threatening SuicideRecently I left my ...        1\n",
              "1  Am I weird I don't get affected by compliments...        0\n",
              "2  Finally 2020 is almost over... So I can never ...        0\n",
              "3          i need helpjust help me im crying so hard        1\n",
              "4  I’m so lostHello, my name is Adam (16) and I’v...        1"
            ]
          },
          "metadata": {},
          "execution_count": 5
        }
      ]
    },
    {
      "cell_type": "code",
      "metadata": {
        "id": "l0ey_lMNuKXF",
        "colab": {
          "base_uri": "https://localhost:8080/",
          "height": 206
        },
        "outputId": "fd7c92e1-a4b3-435c-e0b5-4807e9fada7d"
      },
      "source": [
        "dataframe.columns = dataframe.columns.str.replace(r\"[^a-zA-Z\\d\\_]+\", \"\")\n",
        "dataframe = dataframe.replace([\";\",\":\",\"=\",\"\\+\",\"<\", \">\", \"\\?\", \"!\", \"\\\\\\\\\", \"@\", \"#\", \"$\", \"\\*\", \"%\",\n",
        "                               \",\", \"\\.\", \"\\(\", \"\\)\", \"\\[\", \"\\]\", \"\\{\", \"\\}\", \"\\\"\", \"/br\"], \" \", regex = True)\n",
        "dataframe = dataframe.replace([\"' \", \" '\"], \"\", regex = True)\n",
        "dataframe.head()"
      ],
      "execution_count": null,
      "outputs": [
        {
          "output_type": "execute_result",
          "data": {
            "text/html": [
              "<div>\n",
              "<style scoped>\n",
              "    .dataframe tbody tr th:only-of-type {\n",
              "        vertical-align: middle;\n",
              "    }\n",
              "\n",
              "    .dataframe tbody tr th {\n",
              "        vertical-align: top;\n",
              "    }\n",
              "\n",
              "    .dataframe thead th {\n",
              "        text-align: right;\n",
              "    }\n",
              "</style>\n",
              "<table border=\"1\" class=\"dataframe\">\n",
              "  <thead>\n",
              "    <tr style=\"text-align: right;\">\n",
              "      <th></th>\n",
              "      <th>text</th>\n",
              "      <th>suicide</th>\n",
              "    </tr>\n",
              "  </thead>\n",
              "  <tbody>\n",
              "    <tr>\n",
              "      <th>0</th>\n",
              "      <td>Ex Wife Threatening SuicideRecently I left my ...</td>\n",
              "      <td>1</td>\n",
              "    </tr>\n",
              "    <tr>\n",
              "      <th>1</th>\n",
              "      <td>Am I weird I don't get affected by compliments...</td>\n",
              "      <td>0</td>\n",
              "    </tr>\n",
              "    <tr>\n",
              "      <th>2</th>\n",
              "      <td>Finally 2020 is almost over    So I can never ...</td>\n",
              "      <td>0</td>\n",
              "    </tr>\n",
              "    <tr>\n",
              "      <th>3</th>\n",
              "      <td>i need helpjust help me im crying so hard</td>\n",
              "      <td>1</td>\n",
              "    </tr>\n",
              "    <tr>\n",
              "      <th>4</th>\n",
              "      <td>I’m so lostHello  my name is Adam  16  and I’v...</td>\n",
              "      <td>1</td>\n",
              "    </tr>\n",
              "  </tbody>\n",
              "</table>\n",
              "</div>"
            ],
            "text/plain": [
              "                                                text  suicide\n",
              "0  Ex Wife Threatening SuicideRecently I left my ...        1\n",
              "1  Am I weird I don't get affected by compliments...        0\n",
              "2  Finally 2020 is almost over    So I can never ...        0\n",
              "3         i need helpjust help me im crying so hard         1\n",
              "4  I’m so lostHello  my name is Adam  16  and I’v...        1"
            ]
          },
          "metadata": {},
          "execution_count": 6
        }
      ]
    },
    {
      "cell_type": "code",
      "metadata": {
        "id": "vfR9-L_BxOvC",
        "colab": {
          "base_uri": "https://localhost:8080/"
        },
        "outputId": "7d55ba78-7cd4-4dbd-ff34-56a156c36ca8"
      },
      "source": [
        "df_train = pd.DataFrame()\n",
        "df_dev = pd.DataFrame()\n",
        "df_test = pd.DataFrame()\n",
        "split_1 = int(0.1 * len(dataframe))\n",
        "split_2 = int(0.5 * len(dataframe))\n",
        "df_train = dataframe[:split_1]\n",
        "df_dev = dataframe[split_1:split_2]\n",
        "df_test = dataframe[split_2:]\n",
        "print(\"Training dataset size:\",len(df_train))\n",
        "print(\"Development dataset size:\",len(df_dev))\n",
        "print(\"Testing dataset size:\",len(df_test))"
      ],
      "execution_count": null,
      "outputs": [
        {
          "output_type": "stream",
          "name": "stdout",
          "text": [
            "Training dataset size: 23207\n",
            "Development dataset size: 92830\n",
            "Testing dataset size: 116037\n"
          ]
        }
      ]
    },
    {
      "cell_type": "code",
      "metadata": {
        "id": "gjXd_06BRq3K"
      },
      "source": [
        "df_train_len = len(df_train)\n",
        "df_train_pos_len = len(df_train[df_train['suicide'] == 0])\n",
        "df_train_neg_len = len(df_train[df_train['suicide'] == 1])\n",
        "prob_pos_train = df_train_pos_len / df_train_len\n",
        "prob_neg_train = df_train_neg_len / df_train_len"
      ],
      "execution_count": null,
      "outputs": []
    },
    {
      "cell_type": "code",
      "metadata": {
        "id": "PTke8PktwK4L"
      },
      "source": [
        "wordfreq = dict()\n",
        "wordfreq_pos = dict()\n",
        "wordfreq_neg = dict()\n",
        "for ind in df_train.index:\n",
        "    review_set = set(df_train['text'][ind].lower().split())\n",
        "    for word in review_set:\n",
        "        if word in wordfreq:\n",
        "            wordfreq[word] += 1\n",
        "        else:\n",
        "            wordfreq[word] = 1\n",
        "        \n",
        "        if df_train['suicide'][ind] == 0:\n",
        "            if word in wordfreq_pos:\n",
        "                wordfreq_pos[word] += 1\n",
        "            else:\n",
        "                wordfreq_pos[word] = 1\n",
        "        else:\n",
        "            if word in wordfreq_neg:\n",
        "                wordfreq_neg[word] += 1\n",
        "            else:\n",
        "                wordfreq_neg[word] = 1"
      ],
      "execution_count": null,
      "outputs": []
    },
    {
      "cell_type": "code",
      "metadata": {
        "id": "ru2Spbc7yzr8",
        "colab": {
          "base_uri": "https://localhost:8080/"
        },
        "outputId": "195f39f0-acb5-43af-aa69-8c335cf3215e"
      },
      "source": [
        "final_vocab = dict()\n",
        "final_vocab_pos = dict()\n",
        "final_vocab_neg = dict()\n",
        "for word in wordfreq:\n",
        "    if wordfreq[word] > 850:\n",
        "        final_vocab[word] = wordfreq[word]\n",
        "    if word in wordfreq_pos:\n",
        "        if wordfreq_pos[word] > 850:\n",
        "            final_vocab_pos[word] = wordfreq_pos[word]\n",
        "    if word in wordfreq_neg:\n",
        "        if wordfreq_neg[word] > 850:\n",
        "            final_vocab_neg[word] = wordfreq_neg[word]\n",
        "print(\"Final Vocabulary size:\",len(final_vocab))\n",
        "print(\"Final Positive Vocabulary size:\",len(final_vocab_pos))\n",
        "print(\"Final Negative Vocabulary size:\",len(final_vocab_neg))"
      ],
      "execution_count": null,
      "outputs": [
        {
          "output_type": "stream",
          "name": "stdout",
          "text": [
            "Final Vocabulary size: 348\n",
            "Final Positive Vocabulary size: 87\n",
            "Final Negative Vocabulary size: 287\n"
          ]
        }
      ]
    },
    {
      "cell_type": "code",
      "metadata": {
        "id": "lwPXPG8Jy95k"
      },
      "source": [
        "prob_word = dict()\n",
        "prob_word_g_pos = dict()\n",
        "prob_word_g_neg = dict()\n",
        "\n",
        "for word in final_vocab:\n",
        "    prob_word[word] = final_vocab[word] / df_train_len\n",
        "    if word in final_vocab_pos:\n",
        "        prob_word_g_pos[word] = final_vocab_pos[word] / df_train_pos_len\n",
        "        \n",
        "    if word in final_vocab_neg:\n",
        "        prob_word_g_neg[word] = final_vocab_neg[word] / df_train_neg_len"
      ],
      "execution_count": null,
      "outputs": []
    },
    {
      "cell_type": "code",
      "metadata": {
        "id": "PQ0sxEMwfwiO",
        "colab": {
          "base_uri": "https://localhost:8080/"
        },
        "outputId": "cb5f95d5-7e0b-4d3e-ef33-59cee2159236"
      },
      "source": [
        "accuracy_normal = []\n",
        "df_dev_arr = np.array_split(df_dev, 5)\n",
        "ctr = 0\n",
        "\n",
        "print(\"Accuracy using 5-Fold Cross Validation:\")\n",
        "\n",
        "for df in df_dev_arr:\n",
        "    count = 0\n",
        "    ctr += 1\n",
        "    predicted_sentiments = []\n",
        "    prob_pos_g_wir = dict()\n",
        "    prob_neg_g_wir = dict()\n",
        "    \n",
        "    for ind in df.index:\n",
        "        numPos = 0.00\n",
        "        numNeg = 0.00\n",
        "        \n",
        "        review_set = set(df['text'][ind].lower().split())\n",
        "        for word in review_set:\n",
        "            if word in prob_word:\n",
        "                if word not in prob_word_g_pos:\n",
        "                    numNeg = 0\n",
        "                elif word not in prob_word_g_neg:\n",
        "                    numPos = 0\n",
        "                else:\n",
        "                    numPos = numPos + math.log(prob_word_g_pos[word])\n",
        "                    numNeg = numNeg + math.log(prob_word_g_neg[word])\n",
        "                            \n",
        "        prob_pos_g_wir[ind] = pow(math.e, numPos) * prob_pos_train\n",
        "        prob_neg_g_wir[ind] = pow(math.e, numNeg) * prob_neg_train\n",
        "                            \n",
        "        if(prob_pos_g_wir[ind] < prob_neg_g_wir[ind]):\n",
        "            predicted_sentiments.append(0)\n",
        "        else:\n",
        "            predicted_sentiments.append(1)\n",
        "                                    \n",
        "    df['prediction'] = predicted_sentiments\n",
        "                                                                        \n",
        "    for ind in df.index:\n",
        "        if df['suicide'][ind] == df['prediction'][ind]:\n",
        "            count += 1\n",
        "                                            \n",
        "    accuracy = count / len(df)\n",
        "    accuracy_normal.append(accuracy)\n",
        "    print (ctr,\": Accuracy df_dev:\",accuracy*100,\"%\")"
      ],
      "execution_count": null,
      "outputs": [
        {
          "output_type": "stream",
          "name": "stdout",
          "text": [
            "Accuracy using 5-Fold Cross Validation:\n",
            "1 : Accuracy df_dev: 49.402132931164495 %\n",
            "2 : Accuracy df_dev: 49.542173866207044 %\n",
            "3 : Accuracy df_dev: 49.19745771841 %\n",
            "4 : Accuracy df_dev: 49.881503824194766 %\n",
            "5 : Accuracy df_dev: 48.75579015404503 %\n"
          ]
        }
      ]
    },
    {
      "cell_type": "code",
      "metadata": {
        "id": "avb53Jtj3jSP"
      },
      "source": [
        "prob_word_g_pos_smooth = dict()\n",
        "prob_word_g_neg_smooth = dict()\n",
        "\n",
        "for word in final_vocab:\n",
        "    if word in final_vocab_pos:\n",
        "        prob_word_g_pos_smooth[word] = (final_vocab_pos[word]+1) / (df_train_pos_len + len(final_vocab))\n",
        "        \n",
        "    if word in final_vocab_neg:\n",
        "        prob_word_g_neg_smooth[word] = (final_vocab_neg[word]+1) / (df_train_neg_len + len(final_vocab))"
      ],
      "execution_count": null,
      "outputs": []
    },
    {
      "cell_type": "code",
      "metadata": {
        "id": "FXPJUemXfzEo",
        "colab": {
          "base_uri": "https://localhost:8080/"
        },
        "outputId": "3051f02e-dfcf-4c7b-a680-e8fa1e6ac983"
      },
      "source": [
        "accuracy_smooth = []\n",
        "df_dev_arr = np.array_split(df_dev, 5)\n",
        "ctr = 0\n",
        "\n",
        "print(\"Accuracy after Smoothing using 5-Fold Cross Validation:\")\n",
        "\n",
        "for df in df_dev_arr:\n",
        "    count = 0\n",
        "    ctr += 1\n",
        "    predicted_sentiments = []\n",
        "    prob_pos_g_wir = dict()\n",
        "    prob_neg_g_wir = dict()\n",
        "    \n",
        "    for ind in df.index:\n",
        "        numPos = 0.00\n",
        "        numNeg = 0.00\n",
        "        \n",
        "        review_set = set(df['text'][ind].lower().split())\n",
        "        for word in review_set:\n",
        "            if word in prob_word:\n",
        "                if word not in prob_word_g_pos:\n",
        "                    numNeg = 0\n",
        "                elif word not in prob_word_g_neg:\n",
        "                    numPos = 0\n",
        "                else:\n",
        "                    numPos = numPos + math.log(prob_word_g_pos_smooth[word])\n",
        "                    numNeg = numNeg + math.log(prob_word_g_neg_smooth[word])\n",
        "                            \n",
        "        prob_pos_g_wir[ind] = pow(math.e, numPos) * prob_pos_train\n",
        "        prob_neg_g_wir[ind] = pow(math.e, numNeg) * prob_neg_train\n",
        "                            \n",
        "        if(prob_pos_g_wir[ind] < prob_neg_g_wir[ind]):\n",
        "            predicted_sentiments.append(0)\n",
        "        else:\n",
        "            predicted_sentiments.append(1)\n",
        "                                    \n",
        "    df['prediction'] = predicted_sentiments\n",
        "                                                                        \n",
        "    for ind in df.index:\n",
        "        if df['suicide'][ind] == df['prediction'][ind]:\n",
        "            count += 1\n",
        "                                            \n",
        "    accuracy = count / len(df)\n",
        "    accuracy_smooth.append(accuracy)\n",
        "    print (ctr,\": Accuracy df_dev:\",accuracy*100,\"%\")"
      ],
      "execution_count": null,
      "outputs": [
        {
          "output_type": "stream",
          "name": "stdout",
          "text": [
            "Accuracy after Smoothing using 5-Fold Cross Validation:\n",
            "1 : Accuracy df_dev: 49.402132931164495 %\n",
            "2 : Accuracy df_dev: 49.542173866207044 %\n",
            "3 : Accuracy df_dev: 49.19745771841 %\n",
            "4 : Accuracy df_dev: 49.881503824194766 %\n",
            "5 : Accuracy df_dev: 48.75579015404503 %\n"
          ]
        }
      ]
    },
    {
      "cell_type": "code",
      "metadata": {
        "id": "zvErruLe3vbK",
        "colab": {
          "base_uri": "https://localhost:8080/"
        },
        "outputId": "3ad994f8-a6f4-4a85-cac6-e16116d0f3fa"
      },
      "source": [
        "betterNormal = 0\n",
        "betterSmoothing = 0\n",
        "\n",
        "for i in range(len(accuracy_normal)):\n",
        "    if accuracy_normal[i] > accuracy_smooth[i]:\n",
        "        betterNormal += 1\n",
        "    else:\n",
        "        betterSmoothing +=1\n",
        "\n",
        "if(betterNormal > betterSmoothing):\n",
        "    print(\"For the given dev dataset, accuracy is better without smoothing\")\n",
        "else:\n",
        "    print(\"For the given dev dataset, accuracy is better with smoothing\")"
      ],
      "execution_count": null,
      "outputs": [
        {
          "output_type": "stream",
          "name": "stdout",
          "text": [
            "For the given dev dataset, accuracy is better with smoothing\n"
          ]
        }
      ]
    },
    {
      "cell_type": "code",
      "metadata": {
        "id": "GJF903uP4Kkq"
      },
      "source": [
        "prob_pos_given_word = dict()\n",
        "prob_neg_given_word = dict()\n",
        "\n",
        "for word in final_vocab:\n",
        "    if word in final_vocab_pos:\n",
        "        prob_pos_given_word[word] = (prob_word_g_pos[word] * prob_pos_train) / prob_word[word]\n",
        "    if word in final_vocab_neg:\n",
        "        prob_neg_given_word[word] = (prob_word_g_neg[word] * prob_neg_train) / prob_word[word]"
      ],
      "execution_count": null,
      "outputs": []
    },
    {
      "cell_type": "code",
      "metadata": {
        "id": "2anqMPGs4PmL",
        "colab": {
          "base_uri": "https://localhost:8080/"
        },
        "outputId": "4d083651-83d0-4797-d6f5-f1d896f0a191"
      },
      "source": [
        "print(\"Top 10 words predicting positive class:\")\n",
        "prob_pos_given_word = sorted(prob_pos_given_word.items(), key=operator.itemgetter(1), reverse=True)\n",
        "\n",
        "\n",
        "prob_pos_given_word[:10]"
      ],
      "execution_count": null,
      "outputs": [
        {
          "output_type": "stream",
          "name": "stdout",
          "text": [
            "Top 10 words predicting positive class:\n"
          ]
        },
        {
          "output_type": "execute_result",
          "data": {
            "text/plain": [
              "[('your', 0.5429149797570849),\n",
              " ('you', 0.5283708686750511),\n",
              " ('we', 0.45490584737363726),\n",
              " ('i', 0.4213099779700177),\n",
              " ('a', 0.4168080386271695),\n",
              " ('i’m', 0.4142235123367199),\n",
              " ('and', 0.3934108527131782),\n",
              " ('the', 0.38907096515283257),\n",
              " ('are', 0.38364424345204445),\n",
              " ('to', 0.3834221155534742)]"
            ]
          },
          "metadata": {},
          "execution_count": 21
        }
      ]
    },
    {
      "cell_type": "code",
      "metadata": {
        "id": "Dr2rhoKs4mnR",
        "colab": {
          "base_uri": "https://localhost:8080/"
        },
        "outputId": "8e729715-70b6-485e-8d26-3ae9e1b65dfc"
      },
      "source": [
        "print(\"Top 10 words predicting negative class:\")\n",
        "prob_neg_given_word = sorted(prob_neg_given_word.items(), key=operator.itemgetter(1), reverse=True)\n",
        "\n",
        "prob_neg_given_word[:10]"
      ],
      "execution_count": null,
      "outputs": [
        {
          "output_type": "stream",
          "name": "stdout",
          "text": [
            "Top 10 words predicting negative class:\n"
          ]
        },
        {
          "output_type": "execute_result",
          "data": {
            "text/plain": [
              "[('suicidal', 0.9751908396946563),\n",
              " ('suicide', 0.9689922480620154),\n",
              " ('killing', 0.9628796400449943),\n",
              " ('kill', 0.945713216023961),\n",
              " ('depression', 0.9435028248587569),\n",
              " ('pain', 0.9296730413325106),\n",
              " ('die', 0.9272986457590876),\n",
              " ('living', 0.9240271772699197),\n",
              " ('thoughts', 0.922919508867667),\n",
              " ('job', 0.9225526641883519)]"
            ]
          },
          "metadata": {},
          "execution_count": 22
        }
      ]
    },
    {
      "cell_type": "code",
      "metadata": {
        "id": "cO9MaoBL4tuT",
        "colab": {
          "base_uri": "https://localhost:8080/"
        },
        "outputId": "08cceaa4-cc11-4a65-bcd9-d7e718b40bb1"
      },
      "source": [
        "predicted_sentiments = []\n",
        "prob_pos_g_wir = dict()\n",
        "prob_neg_g_wir = dict()\n",
        "\n",
        "if(betterNormal < betterSmoothing):\n",
        "    prob_word_g_pos = prob_word_g_pos_smooth\n",
        "\n",
        "for ind in df_test.index:\n",
        "    numPos = 0.00\n",
        "    numNeg = 0.00\n",
        "    \n",
        "    review_set = set(df_test['text'][ind].lower().split())\n",
        "    for word in review_set:\n",
        "        if word in prob_word:\n",
        "            if word not in prob_word_g_pos:\n",
        "                numNeg = 0\n",
        "            elif word not in prob_word_g_neg:\n",
        "                numPos = 0\n",
        "            else:\n",
        "                numPos = numPos + math.log(prob_word_g_pos[word])\n",
        "                numNeg = numNeg + math.log(prob_word_g_neg[word])\n",
        "    \n",
        "    prob_pos_g_wir[ind] = pow(math.e, numPos) * prob_pos_train\n",
        "    prob_neg_g_wir[ind] = pow(math.e, numNeg) * prob_neg_train\n",
        "    \n",
        "    if(prob_pos_g_wir[ind] < prob_neg_g_wir[ind]):\n",
        "        predicted_sentiments.append(0)\n",
        "    else:\n",
        "        predicted_sentiments.append(1)\n",
        "        \n",
        "df_test['prediction'] = predicted_sentiments\n",
        "\n",
        "count = 0\n",
        "\n",
        "for ind in df_test.index:\n",
        "    if df_test['suicide'][ind] == df_test['prediction'][ind]:\n",
        "        count += 1\n",
        "        \n",
        "accuracy = count / len(df_test)\n",
        "print (\"Accuracy df_test:\",accuracy*100,\"%\")"
      ],
      "execution_count": null,
      "outputs": [
        {
          "output_type": "stream",
          "name": "stderr",
          "text": [
            "/usr/local/lib/python3.7/dist-packages/ipykernel_launcher.py:31: SettingWithCopyWarning: \n",
            "A value is trying to be set on a copy of a slice from a DataFrame.\n",
            "Try using .loc[row_indexer,col_indexer] = value instead\n",
            "\n",
            "See the caveats in the documentation: https://pandas.pydata.org/pandas-docs/stable/user_guide/indexing.html#returning-a-view-versus-a-copy\n"
          ]
        },
        {
          "output_type": "stream",
          "name": "stdout",
          "text": [
            "Accuracy df_test: 49.62037970647293 %\n"
          ]
        }
      ]
    },
    {
      "cell_type": "code",
      "metadata": {
        "colab": {
          "base_uri": "https://localhost:8080/"
        },
        "id": "N_ainaRyK3tN",
        "outputId": "1d6c86c9-9512-4ff0-8b6f-8b851181819b"
      },
      "source": [
        "input_review = input('Type here...')\n",
        "word=input_review.split()\n",
        "prob_word = dict()\n",
        "prob_word_g_pos = dict()\n",
        "prob_word_g_neg = dict()\n",
        "a1=0\n",
        "a2=0\n",
        "for j in range(0,len(word)):\n",
        "  new1=word[j]\n",
        "  if new1 in final_vocab_pos:\n",
        "    a1+=final_vocab_pos[new1]/len(final_vocab)\n",
        "  elif new1 in final_vocab_neg:\n",
        "    a2+=final_vocab_neg[new1]/len(final_vocab)\n",
        "if a1<a2:\n",
        "  print(\"Person is suicidal \\n Seek help! \\nCall: 800-273-8255\")\n",
        "else:\n",
        "  print(\"Person is not suicidal\")"
      ],
      "execution_count": null,
      "outputs": [
        {
          "output_type": "stream",
          "name": "stdout",
          "text": [
            "Type here...I was sad that my ice-cream fell, but I had fun swimming. It was a good day!\n",
            "Person is not suicidal\n"
          ]
        }
      ]
    }
  ]
}